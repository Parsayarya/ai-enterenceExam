{
  "nbformat": 4,
  "nbformat_minor": 0,
  "metadata": {
    "colab": {
      "name": "programming0.ipynb",
      "provenance": [],
      "collapsed_sections": [],
      "authorship_tag": "ABX9TyMoRcK+UBOkLdrxOpAR1+Fa",
      "include_colab_link": true
    },
    "kernelspec": {
      "name": "python3",
      "display_name": "Python 3"
    },
    "language_info": {
      "name": "python"
    }
  },
  "cells": [
    {
      "cell_type": "markdown",
      "metadata": {
        "id": "view-in-github",
        "colab_type": "text"
      },
      "source": [
        "<a href=\"https://colab.research.google.com/github/Parsayarya/ai-enterenceExam/blob/main/programming0.ipynb\" target=\"_parent\"><img src=\"https://colab.research.google.com/assets/colab-badge.svg\" alt=\"Open In Colab\"/></a>"
      ]
    },
    {
      "cell_type": "code",
      "execution_count": 48,
      "metadata": {
        "id": "n4736lOZbv27"
      },
      "outputs": [],
      "source": [
        "import numpy as np\n",
        "import pandas as pd"
      ]
    },
    {
      "cell_type": "code",
      "source": [
        "input = pd.read_csv('/content/input.txt',sep='.',delimiter=None, names=None, index_col=None,header=None)\n",
        "input"
      ],
      "metadata": {
        "colab": {
          "base_uri": "https://localhost:8080/",
          "height": 143
        },
        "id": "Ue7S1VLFcE6c",
        "outputId": "92a51aeb-2634-4884-cfc8-52b82734cb44"
      },
      "execution_count": 54,
      "outputs": [
        {
          "output_type": "execute_result",
          "data": {
            "text/plain": [
              "                                                   0  \\\n",
              "0  لورم ایپسوم یا طرح‌نما (به انگلیسی: Lorem ipsu...   \n",
              "1  این راست نیست که هرچه عاشق‌ تر باشی بهتر درک م...   \n",
              "2   مداد رنگی ها مشغول بودند به جز مداد سفید، هیچ...   \n",
              "\n",
              "                                                   1  \\\n",
              "0   طراح گرافیک از این متن به عنوان عنصری از ترکی...   \n",
              "1   همه‌ی آنچه عشق و عاشقی از من می‌ خواهد فقط در...   \n",
              "2                                                NaN   \n",
              "\n",
              "                                                   2  \\\n",
              "0   معمولا طراحان گرافیک برای صفحه‌آرایی، نخست از...   \n",
              "1   پس من در مسرتِ عشق ورزیدن به یک ناشناس غرق می...   \n",
              "2                                                NaN   \n",
              "\n",
              "                                                   3   4  \n",
              "0   از آنجایی که طراحان عموما نویسنده متن نیستند ... NaN  \n",
              "1     سِیری عارفانه: من آن‌چه را نمی‌شناسم می‌شناسم! NaN  \n",
              "2                                                NaN NaN  "
            ],
            "text/html": [
              "\n",
              "  <div id=\"df-ba921bfc-d511-4c38-ab77-5dc80057ea4a\">\n",
              "    <div class=\"colab-df-container\">\n",
              "      <div>\n",
              "<style scoped>\n",
              "    .dataframe tbody tr th:only-of-type {\n",
              "        vertical-align: middle;\n",
              "    }\n",
              "\n",
              "    .dataframe tbody tr th {\n",
              "        vertical-align: top;\n",
              "    }\n",
              "\n",
              "    .dataframe thead th {\n",
              "        text-align: right;\n",
              "    }\n",
              "</style>\n",
              "<table border=\"1\" class=\"dataframe\">\n",
              "  <thead>\n",
              "    <tr style=\"text-align: right;\">\n",
              "      <th></th>\n",
              "      <th>0</th>\n",
              "      <th>1</th>\n",
              "      <th>2</th>\n",
              "      <th>3</th>\n",
              "      <th>4</th>\n",
              "    </tr>\n",
              "  </thead>\n",
              "  <tbody>\n",
              "    <tr>\n",
              "      <th>0</th>\n",
              "      <td>لورم ایپسوم یا طرح‌نما (به انگلیسی: Lorem ipsu...</td>\n",
              "      <td>طراح گرافیک از این متن به عنوان عنصری از ترکی...</td>\n",
              "      <td>معمولا طراحان گرافیک برای صفحه‌آرایی، نخست از...</td>\n",
              "      <td>از آنجایی که طراحان عموما نویسنده متن نیستند ...</td>\n",
              "      <td>NaN</td>\n",
              "    </tr>\n",
              "    <tr>\n",
              "      <th>1</th>\n",
              "      <td>این راست نیست که هرچه عاشق‌ تر باشی بهتر درک م...</td>\n",
              "      <td>همه‌ی آنچه عشق و عاشقی از من می‌ خواهد فقط در...</td>\n",
              "      <td>پس من در مسرتِ عشق ورزیدن به یک ناشناس غرق می...</td>\n",
              "      <td>سِیری عارفانه: من آن‌چه را نمی‌شناسم می‌شناسم!</td>\n",
              "      <td>NaN</td>\n",
              "    </tr>\n",
              "    <tr>\n",
              "      <th>2</th>\n",
              "      <td>مداد رنگی ها مشغول بودند به جز مداد سفید، هیچ...</td>\n",
              "      <td>NaN</td>\n",
              "      <td>NaN</td>\n",
              "      <td>NaN</td>\n",
              "      <td>NaN</td>\n",
              "    </tr>\n",
              "  </tbody>\n",
              "</table>\n",
              "</div>\n",
              "      <button class=\"colab-df-convert\" onclick=\"convertToInteractive('df-ba921bfc-d511-4c38-ab77-5dc80057ea4a')\"\n",
              "              title=\"Convert this dataframe to an interactive table.\"\n",
              "              style=\"display:none;\">\n",
              "        \n",
              "  <svg xmlns=\"http://www.w3.org/2000/svg\" height=\"24px\"viewBox=\"0 0 24 24\"\n",
              "       width=\"24px\">\n",
              "    <path d=\"M0 0h24v24H0V0z\" fill=\"none\"/>\n",
              "    <path d=\"M18.56 5.44l.94 2.06.94-2.06 2.06-.94-2.06-.94-.94-2.06-.94 2.06-2.06.94zm-11 1L8.5 8.5l.94-2.06 2.06-.94-2.06-.94L8.5 2.5l-.94 2.06-2.06.94zm10 10l.94 2.06.94-2.06 2.06-.94-2.06-.94-.94-2.06-.94 2.06-2.06.94z\"/><path d=\"M17.41 7.96l-1.37-1.37c-.4-.4-.92-.59-1.43-.59-.52 0-1.04.2-1.43.59L10.3 9.45l-7.72 7.72c-.78.78-.78 2.05 0 2.83L4 21.41c.39.39.9.59 1.41.59.51 0 1.02-.2 1.41-.59l7.78-7.78 2.81-2.81c.8-.78.8-2.07 0-2.86zM5.41 20L4 18.59l7.72-7.72 1.47 1.35L5.41 20z\"/>\n",
              "  </svg>\n",
              "      </button>\n",
              "      \n",
              "  <style>\n",
              "    .colab-df-container {\n",
              "      display:flex;\n",
              "      flex-wrap:wrap;\n",
              "      gap: 12px;\n",
              "    }\n",
              "\n",
              "    .colab-df-convert {\n",
              "      background-color: #E8F0FE;\n",
              "      border: none;\n",
              "      border-radius: 50%;\n",
              "      cursor: pointer;\n",
              "      display: none;\n",
              "      fill: #1967D2;\n",
              "      height: 32px;\n",
              "      padding: 0 0 0 0;\n",
              "      width: 32px;\n",
              "    }\n",
              "\n",
              "    .colab-df-convert:hover {\n",
              "      background-color: #E2EBFA;\n",
              "      box-shadow: 0px 1px 2px rgba(60, 64, 67, 0.3), 0px 1px 3px 1px rgba(60, 64, 67, 0.15);\n",
              "      fill: #174EA6;\n",
              "    }\n",
              "\n",
              "    [theme=dark] .colab-df-convert {\n",
              "      background-color: #3B4455;\n",
              "      fill: #D2E3FC;\n",
              "    }\n",
              "\n",
              "    [theme=dark] .colab-df-convert:hover {\n",
              "      background-color: #434B5C;\n",
              "      box-shadow: 0px 1px 3px 1px rgba(0, 0, 0, 0.15);\n",
              "      filter: drop-shadow(0px 1px 2px rgba(0, 0, 0, 0.3));\n",
              "      fill: #FFFFFF;\n",
              "    }\n",
              "  </style>\n",
              "\n",
              "      <script>\n",
              "        const buttonEl =\n",
              "          document.querySelector('#df-ba921bfc-d511-4c38-ab77-5dc80057ea4a button.colab-df-convert');\n",
              "        buttonEl.style.display =\n",
              "          google.colab.kernel.accessAllowed ? 'block' : 'none';\n",
              "\n",
              "        async function convertToInteractive(key) {\n",
              "          const element = document.querySelector('#df-ba921bfc-d511-4c38-ab77-5dc80057ea4a');\n",
              "          const dataTable =\n",
              "            await google.colab.kernel.invokeFunction('convertToInteractive',\n",
              "                                                     [key], {});\n",
              "          if (!dataTable) return;\n",
              "\n",
              "          const docLinkHtml = 'Like what you see? Visit the ' +\n",
              "            '<a target=\"_blank\" href=https://colab.research.google.com/notebooks/data_table.ipynb>data table notebook</a>'\n",
              "            + ' to learn more about interactive tables.';\n",
              "          element.innerHTML = '';\n",
              "          dataTable['output_type'] = 'display_data';\n",
              "          await google.colab.output.renderOutput(dataTable, element);\n",
              "          const docLink = document.createElement('div');\n",
              "          docLink.innerHTML = docLinkHtml;\n",
              "          element.appendChild(docLink);\n",
              "        }\n",
              "      </script>\n",
              "    </div>\n",
              "  </div>\n",
              "  "
            ]
          },
          "metadata": {},
          "execution_count": 54
        }
      ]
    },
    {
      "cell_type": "code",
      "source": [
        "result = pd.DataFrame(data=input)"
      ],
      "metadata": {
        "id": "82jtT-G15wsd"
      },
      "execution_count": 55,
      "outputs": []
    },
    {
      "cell_type": "markdown",
      "source": [
        "handeling NAN"
      ],
      "metadata": {
        "id": "tfF2K5tV7fGd"
      }
    },
    {
      "cell_type": "code",
      "source": [
        "input.fillna('داده ندارد',inplace=True)"
      ],
      "metadata": {
        "id": "VJuxiosp5X7D"
      },
      "execution_count": 56,
      "outputs": []
    },
    {
      "cell_type": "code",
      "source": [
        "input"
      ],
      "metadata": {
        "colab": {
          "base_uri": "https://localhost:8080/",
          "height": 143
        },
        "id": "WcNdv5lrB-px",
        "outputId": "e9d78926-289e-41f8-a366-be8958e90e66"
      },
      "execution_count": 57,
      "outputs": [
        {
          "output_type": "execute_result",
          "data": {
            "text/plain": [
              "                                                   0  \\\n",
              "0  لورم ایپسوم یا طرح‌نما (به انگلیسی: Lorem ipsu...   \n",
              "1  این راست نیست که هرچه عاشق‌ تر باشی بهتر درک م...   \n",
              "2   مداد رنگی ها مشغول بودند به جز مداد سفید، هیچ...   \n",
              "\n",
              "                                                   1  \\\n",
              "0   طراح گرافیک از این متن به عنوان عنصری از ترکی...   \n",
              "1   همه‌ی آنچه عشق و عاشقی از من می‌ خواهد فقط در...   \n",
              "2                                         داده ندارد   \n",
              "\n",
              "                                                   2  \\\n",
              "0   معمولا طراحان گرافیک برای صفحه‌آرایی، نخست از...   \n",
              "1   پس من در مسرتِ عشق ورزیدن به یک ناشناس غرق می...   \n",
              "2                                         داده ندارد   \n",
              "\n",
              "                                                   3           4  \n",
              "0   از آنجایی که طراحان عموما نویسنده متن نیستند ...  داده ندارد  \n",
              "1     سِیری عارفانه: من آن‌چه را نمی‌شناسم می‌شناسم!  داده ندارد  \n",
              "2                                         داده ندارد  داده ندارد  "
            ],
            "text/html": [
              "\n",
              "  <div id=\"df-230efa5a-822e-48a6-aafe-e5a1b2226226\">\n",
              "    <div class=\"colab-df-container\">\n",
              "      <div>\n",
              "<style scoped>\n",
              "    .dataframe tbody tr th:only-of-type {\n",
              "        vertical-align: middle;\n",
              "    }\n",
              "\n",
              "    .dataframe tbody tr th {\n",
              "        vertical-align: top;\n",
              "    }\n",
              "\n",
              "    .dataframe thead th {\n",
              "        text-align: right;\n",
              "    }\n",
              "</style>\n",
              "<table border=\"1\" class=\"dataframe\">\n",
              "  <thead>\n",
              "    <tr style=\"text-align: right;\">\n",
              "      <th></th>\n",
              "      <th>0</th>\n",
              "      <th>1</th>\n",
              "      <th>2</th>\n",
              "      <th>3</th>\n",
              "      <th>4</th>\n",
              "    </tr>\n",
              "  </thead>\n",
              "  <tbody>\n",
              "    <tr>\n",
              "      <th>0</th>\n",
              "      <td>لورم ایپسوم یا طرح‌نما (به انگلیسی: Lorem ipsu...</td>\n",
              "      <td>طراح گرافیک از این متن به عنوان عنصری از ترکی...</td>\n",
              "      <td>معمولا طراحان گرافیک برای صفحه‌آرایی، نخست از...</td>\n",
              "      <td>از آنجایی که طراحان عموما نویسنده متن نیستند ...</td>\n",
              "      <td>داده ندارد</td>\n",
              "    </tr>\n",
              "    <tr>\n",
              "      <th>1</th>\n",
              "      <td>این راست نیست که هرچه عاشق‌ تر باشی بهتر درک م...</td>\n",
              "      <td>همه‌ی آنچه عشق و عاشقی از من می‌ خواهد فقط در...</td>\n",
              "      <td>پس من در مسرتِ عشق ورزیدن به یک ناشناس غرق می...</td>\n",
              "      <td>سِیری عارفانه: من آن‌چه را نمی‌شناسم می‌شناسم!</td>\n",
              "      <td>داده ندارد</td>\n",
              "    </tr>\n",
              "    <tr>\n",
              "      <th>2</th>\n",
              "      <td>مداد رنگی ها مشغول بودند به جز مداد سفید، هیچ...</td>\n",
              "      <td>داده ندارد</td>\n",
              "      <td>داده ندارد</td>\n",
              "      <td>داده ندارد</td>\n",
              "      <td>داده ندارد</td>\n",
              "    </tr>\n",
              "  </tbody>\n",
              "</table>\n",
              "</div>\n",
              "      <button class=\"colab-df-convert\" onclick=\"convertToInteractive('df-230efa5a-822e-48a6-aafe-e5a1b2226226')\"\n",
              "              title=\"Convert this dataframe to an interactive table.\"\n",
              "              style=\"display:none;\">\n",
              "        \n",
              "  <svg xmlns=\"http://www.w3.org/2000/svg\" height=\"24px\"viewBox=\"0 0 24 24\"\n",
              "       width=\"24px\">\n",
              "    <path d=\"M0 0h24v24H0V0z\" fill=\"none\"/>\n",
              "    <path d=\"M18.56 5.44l.94 2.06.94-2.06 2.06-.94-2.06-.94-.94-2.06-.94 2.06-2.06.94zm-11 1L8.5 8.5l.94-2.06 2.06-.94-2.06-.94L8.5 2.5l-.94 2.06-2.06.94zm10 10l.94 2.06.94-2.06 2.06-.94-2.06-.94-.94-2.06-.94 2.06-2.06.94z\"/><path d=\"M17.41 7.96l-1.37-1.37c-.4-.4-.92-.59-1.43-.59-.52 0-1.04.2-1.43.59L10.3 9.45l-7.72 7.72c-.78.78-.78 2.05 0 2.83L4 21.41c.39.39.9.59 1.41.59.51 0 1.02-.2 1.41-.59l7.78-7.78 2.81-2.81c.8-.78.8-2.07 0-2.86zM5.41 20L4 18.59l7.72-7.72 1.47 1.35L5.41 20z\"/>\n",
              "  </svg>\n",
              "      </button>\n",
              "      \n",
              "  <style>\n",
              "    .colab-df-container {\n",
              "      display:flex;\n",
              "      flex-wrap:wrap;\n",
              "      gap: 12px;\n",
              "    }\n",
              "\n",
              "    .colab-df-convert {\n",
              "      background-color: #E8F0FE;\n",
              "      border: none;\n",
              "      border-radius: 50%;\n",
              "      cursor: pointer;\n",
              "      display: none;\n",
              "      fill: #1967D2;\n",
              "      height: 32px;\n",
              "      padding: 0 0 0 0;\n",
              "      width: 32px;\n",
              "    }\n",
              "\n",
              "    .colab-df-convert:hover {\n",
              "      background-color: #E2EBFA;\n",
              "      box-shadow: 0px 1px 2px rgba(60, 64, 67, 0.3), 0px 1px 3px 1px rgba(60, 64, 67, 0.15);\n",
              "      fill: #174EA6;\n",
              "    }\n",
              "\n",
              "    [theme=dark] .colab-df-convert {\n",
              "      background-color: #3B4455;\n",
              "      fill: #D2E3FC;\n",
              "    }\n",
              "\n",
              "    [theme=dark] .colab-df-convert:hover {\n",
              "      background-color: #434B5C;\n",
              "      box-shadow: 0px 1px 3px 1px rgba(0, 0, 0, 0.15);\n",
              "      filter: drop-shadow(0px 1px 2px rgba(0, 0, 0, 0.3));\n",
              "      fill: #FFFFFF;\n",
              "    }\n",
              "  </style>\n",
              "\n",
              "      <script>\n",
              "        const buttonEl =\n",
              "          document.querySelector('#df-230efa5a-822e-48a6-aafe-e5a1b2226226 button.colab-df-convert');\n",
              "        buttonEl.style.display =\n",
              "          google.colab.kernel.accessAllowed ? 'block' : 'none';\n",
              "\n",
              "        async function convertToInteractive(key) {\n",
              "          const element = document.querySelector('#df-230efa5a-822e-48a6-aafe-e5a1b2226226');\n",
              "          const dataTable =\n",
              "            await google.colab.kernel.invokeFunction('convertToInteractive',\n",
              "                                                     [key], {});\n",
              "          if (!dataTable) return;\n",
              "\n",
              "          const docLinkHtml = 'Like what you see? Visit the ' +\n",
              "            '<a target=\"_blank\" href=https://colab.research.google.com/notebooks/data_table.ipynb>data table notebook</a>'\n",
              "            + ' to learn more about interactive tables.';\n",
              "          element.innerHTML = '';\n",
              "          dataTable['output_type'] = 'display_data';\n",
              "          await google.colab.output.renderOutput(dataTable, element);\n",
              "          const docLink = document.createElement('div');\n",
              "          docLink.innerHTML = docLinkHtml;\n",
              "          element.appendChild(docLink);\n",
              "        }\n",
              "      </script>\n",
              "    </div>\n",
              "  </div>\n",
              "  "
            ]
          },
          "metadata": {},
          "execution_count": 57
        }
      ]
    },
    {
      "cell_type": "markdown",
      "source": [
        "deleting the sentences with more than 50 words or less than 10 words"
      ],
      "metadata": {
        "id": "ewcmqzUL4upn"
      }
    },
    {
      "cell_type": "code",
      "source": [
        "for i in range(len(input)):\n",
        "  for j in range(len(input[i])):\n",
        "    print(type(input.loc[i][j]))\n",
        "    if len(input.loc[i][j])<10 or len(input.loc[i][j])>50:\n",
        "      result[i][j] = ''"
      ],
      "metadata": {
        "colab": {
          "base_uri": "https://localhost:8080/"
        },
        "id": "-d7bAlv3ioDV",
        "outputId": "a03dc4e4-cf84-4cd3-ee11-05b1f2ef0885"
      },
      "execution_count": 58,
      "outputs": [
        {
          "output_type": "stream",
          "name": "stdout",
          "text": [
            "<class 'str'>\n",
            "<class 'str'>\n",
            "<class 'str'>\n",
            "<class 'str'>\n",
            "<class 'str'>\n",
            "<class 'str'>\n",
            "<class 'str'>\n",
            "<class 'str'>\n",
            "<class 'str'>\n"
          ]
        },
        {
          "output_type": "stream",
          "name": "stderr",
          "text": [
            "/usr/local/lib/python3.7/dist-packages/ipykernel_launcher.py:5: SettingWithCopyWarning: \n",
            "A value is trying to be set on a copy of a slice from a DataFrame\n",
            "\n",
            "See the caveats in the documentation: https://pandas.pydata.org/pandas-docs/stable/user_guide/indexing.html#returning-a-view-versus-a-copy\n",
            "  \"\"\"\n"
          ]
        }
      ]
    },
    {
      "cell_type": "markdown",
      "source": [
        "converting numbers to words"
      ],
      "metadata": {
        "id": "pO-5T-5e75t3"
      }
    },
    {
      "cell_type": "code",
      "source": [
        "!pip install num2words"
      ],
      "metadata": {
        "colab": {
          "base_uri": "https://localhost:8080/"
        },
        "id": "R8WrSmCG747d",
        "outputId": "ccf08a96-88b6-4f5b-ca8f-3a6c06eb8ef3"
      },
      "execution_count": 37,
      "outputs": [
        {
          "output_type": "stream",
          "name": "stdout",
          "text": [
            "Looking in indexes: https://pypi.org/simple, https://us-python.pkg.dev/colab-wheels/public/simple/\n",
            "Collecting num2words\n",
            "  Downloading num2words-0.5.10-py3-none-any.whl (101 kB)\n",
            "\u001b[K     |████████████████████████████████| 101 kB 7.4 MB/s \n",
            "\u001b[?25hRequirement already satisfied: docopt>=0.6.2 in /usr/local/lib/python3.7/dist-packages (from num2words) (0.6.2)\n",
            "Installing collected packages: num2words\n",
            "Successfully installed num2words-0.5.10\n"
          ]
        }
      ]
    },
    {
      "cell_type": "code",
      "source": [
        "from num2words import num2words\n",
        "num2words('۲۰۰۵')"
      ],
      "metadata": {
        "colab": {
          "base_uri": "https://localhost:8080/",
          "height": 36
        },
        "id": "QoWm_jsl-XUs",
        "outputId": "4087cc39-c1c5-4634-f770-4498347a23d4"
      },
      "execution_count": 39,
      "outputs": [
        {
          "output_type": "execute_result",
          "data": {
            "text/plain": [
              "'two thousand and five'"
            ],
            "application/vnd.google.colaboratory.intrinsic+json": {
              "type": "string"
            }
          },
          "metadata": {},
          "execution_count": 39
        }
      ]
    },
    {
      "cell_type": "code",
      "source": [
        "for i in range(len(input)):\n",
        "  for j in range(len(input[i])):\n",
        "    for p in range(len(input[i][j])):\n",
        "      if input[i][j][p].isdigit():\n",
        "        result[i][j][p] = num2words(input[i][j][p])"
      ],
      "metadata": {
        "id": "_Nr2ESFm_EKK"
      },
      "execution_count": 59,
      "outputs": []
    },
    {
      "cell_type": "markdown",
      "source": [
        "keeping the deisired charechters"
      ],
      "metadata": {
        "id": "hJK9Q_zoAWIz"
      }
    },
    {
      "cell_type": "code",
      "source": [
        "s = '۱۲۳۴۵۶۷۸۹۰ضصثقفغعهخحجچشسیبلاتنمکگظطزرذدپو'\n",
        "s.count('a')"
      ],
      "metadata": {
        "colab": {
          "base_uri": "https://localhost:8080/"
        },
        "id": "kJ13o_FnBInd",
        "outputId": "654c3df8-464e-4e2c-ba0a-c80adc9f27ea"
      },
      "execution_count": 46,
      "outputs": [
        {
          "output_type": "execute_result",
          "data": {
            "text/plain": [
              "0"
            ]
          },
          "metadata": {},
          "execution_count": 46
        }
      ]
    },
    {
      "cell_type": "code",
      "source": [
        "s = '۱۲۳۴۵۶۷۸۹۰ضصثقفغعهخحجچشسیبلاتنمکگظطزرذدپو'\n",
        "for i in range(len(input)):\n",
        "  for j in range(len(input[i])):\n",
        "    for p in range(len(input[i][j])):\n",
        "        if s.count(input[i][j][p]) == 0 :\n",
        "         result[i][j] = result[i][j].replace(input[i][j][p],\"\")"
      ],
      "metadata": {
        "colab": {
          "base_uri": "https://localhost:8080/"
        },
        "id": "snPLIqvYAT1N",
        "outputId": "21b17bdc-d3db-4f57-c715-bdfd03550da0"
      },
      "execution_count": 65,
      "outputs": [
        {
          "output_type": "stream",
          "name": "stderr",
          "text": [
            "/usr/local/lib/python3.7/dist-packages/ipykernel_launcher.py:6: SettingWithCopyWarning: \n",
            "A value is trying to be set on a copy of a slice from a DataFrame\n",
            "\n",
            "See the caveats in the documentation: https://pandas.pydata.org/pandas-docs/stable/user_guide/indexing.html#returning-a-view-versus-a-copy\n",
            "  \n"
          ]
        }
      ]
    },
    {
      "cell_type": "markdown",
      "source": [
        "converting arabic words to persian"
      ],
      "metadata": {
        "id": "4nCT1xC4DHEI"
      }
    },
    {
      "cell_type": "code",
      "source": [
        "dictionary = {\n",
        "    'ک' : 'ك',\n",
        "    'ی' : 'ي',\n",
        "    'ه' : 'ة'\n",
        "} "
      ],
      "metadata": {
        "id": "bVPzL_bxC50O"
      },
      "execution_count": 66,
      "outputs": []
    },
    {
      "cell_type": "code",
      "source": [
        "for i in range(len(input)):\n",
        "  for j in range(len(input[i])):\n",
        "    for p in range(len(input[i][j])):\n",
        "      if input[i][j][p] in dictionary:\n",
        "        result[i][j] = result[i][j].replace(input[i][j][p],dictionary[input[i][j][p]]) \n",
        "      "
      ],
      "metadata": {
        "colab": {
          "base_uri": "https://localhost:8080/"
        },
        "id": "j2kBZs8XEGHg",
        "outputId": "47289a58-327e-4125-d989-a3ac93fa8528"
      },
      "execution_count": 71,
      "outputs": [
        {
          "output_type": "stream",
          "name": "stderr",
          "text": [
            "/usr/local/lib/python3.7/dist-packages/ipykernel_launcher.py:5: SettingWithCopyWarning: \n",
            "A value is trying to be set on a copy of a slice from a DataFrame\n",
            "\n",
            "See the caveats in the documentation: https://pandas.pydata.org/pandas-docs/stable/user_guide/indexing.html#returning-a-view-versus-a-copy\n",
            "  \"\"\"\n"
          ]
        }
      ]
    }
  ]
}